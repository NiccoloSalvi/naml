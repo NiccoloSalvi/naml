{
  "nbformat": 4,
  "nbformat_minor": 0,
  "metadata": {
    "colab": {
      "provenance": [],
      "include_colab_link": true
    },
    "kernelspec": {
      "name": "python3",
      "display_name": "Python 3"
    }
  },
  "cells": [
    {
      "cell_type": "markdown",
      "metadata": {
        "id": "view-in-github",
        "colab_type": "text"
      },
      "source": [
        "<a href=\"https://colab.research.google.com/github/NiccoloSalvi/naml/blob/main/JAX.ipynb\" target=\"_parent\"><img src=\"https://colab.research.google.com/assets/colab-badge.svg\" alt=\"Open In Colab\"/></a>"
      ]
    },
    {
      "cell_type": "markdown",
      "metadata": {
        "id": "e7q1DhWpV-Dw"
      },
      "source": [
        "# Auto-diff with JAX\n",
        "\n",
        "https://github.com/google/jax"
      ]
    },
    {
      "cell_type": "markdown",
      "metadata": {
        "id": "Snjf4u7vf0sa"
      },
      "source": [
        "JAX is a Google research project, developed by the former developers of [Autograd](https://github.com/hips/autograd), bringing together the potentialities of Autograd and the linear algebra accelerator [XLA](https://www.tensorflow.org/xla). It is based on three pillars:\n",
        "- `grad`: Automatic Differentiation\n",
        "- `jit`: Just-in-time compilation\n",
        "- `vmap`: Automatic vectorization.\n",
        "\n",
        "## Automatic differentiation in JAX\n",
        "\n",
        "JAX augments numpy and Python code with function transformations which make it trivial to perform operations common in machine learning programs. JAX's augmented numpy lives at `jax.numpy`. With a few exceptions, you can think of `jax.numpy` as directly interchangeable with `numpy`. As a general rule, you should use `jax.numpy` whenever you plan to use any of JAX's transformations.\n",
        "\n",
        "The function `df = jax.grad(f, argnums = 0)` takes the callable object `f` and returns another callable object, `df`, evaluating the gradient of `f` w.r.t. the argument(s) of index(es) `argnums`. For more information, check out the [documentation](https://jax.readthedocs.io/en/latest/jax.html?highlight=grad#jax.grad)."
      ]
    },
    {
      "cell_type": "markdown",
      "metadata": {
        "id": "yBVAFA6LiZhv"
      },
      "source": [
        "**Example**\n",
        "\n",
        "We consider the function:\n",
        "$$\n",
        "f(x) = x \\sin(x^2)\n",
        "$$\n",
        "\n",
        "and we compute $f'(x_0)$ for $x_0 = 0.13$"
      ]
    },
    {
      "cell_type": "code",
      "metadata": {
        "id": "pJsIHEuC0BwB",
        "colab": {
          "base_uri": "https://localhost:8080/"
        },
        "outputId": "a1b16237-290f-4a37-afc0-e719ad03ed86"
      },
      "source": [
        "import numpy as np\n",
        "import jax.numpy as jnp\n",
        "import jax\n",
        "\n",
        "func = lambda x : x * jnp.sin(x ** 2)\n",
        "x0 = 0.13\n",
        "dfunc_AD = jax.grad(func)\n",
        "df_AD = dfunc_AD(x0)\n",
        "\n",
        "# analytical derivative\n",
        "dfunc = lambda x : np.sin(x**2)+2 * x**2 * np.cos(x**2)\n",
        "df_ex = dfunc(x0)\n",
        "\n",
        "print('df (ex): %f' % df_ex)\n",
        "print('df (AD): %f' % df_AD)\n",
        "\n",
        "print('err (AD): %e' % (abs(df_AD - df_ex)/abs(df_ex)))"
      ],
      "execution_count": 1,
      "outputs": [
        {
          "output_type": "stream",
          "name": "stdout",
          "text": [
            "df (ex): 0.050694\n",
            "df (AD): 0.050694\n",
            "err (AD): 7.348529e-08\n"
          ]
        }
      ]
    },
    {
      "cell_type": "markdown",
      "source": [
        "Evaluate the execution times of the functions `func` and `dfunc_AD`."
      ],
      "metadata": {
        "id": "Jt667yP0fy73"
      }
    },
    {
      "cell_type": "code",
      "source": [
        "%timeit func(x0)"
      ],
      "metadata": {
        "colab": {
          "base_uri": "https://localhost:8080/"
        },
        "id": "zoLdJV9IQI-K",
        "outputId": "cf3c379c-92ca-4922-d8f6-6cfea8325f7a"
      },
      "execution_count": 2,
      "outputs": [
        {
          "output_type": "stream",
          "name": "stdout",
          "text": [
            "67.8 µs ± 19.9 µs per loop (mean ± std. dev. of 7 runs, 10000 loops each)\n"
          ]
        }
      ]
    },
    {
      "cell_type": "code",
      "source": [
        "%timeit dfunc_AD"
      ],
      "metadata": {
        "colab": {
          "base_uri": "https://localhost:8080/"
        },
        "id": "oeYpzrrCUuhV",
        "outputId": "189702ec-dadb-44f8-cf68-f4d279821bf1"
      },
      "execution_count": 3,
      "outputs": [
        {
          "output_type": "stream",
          "name": "stdout",
          "text": [
            "63.8 ns ± 3.53 ns per loop (mean ± std. dev. of 7 runs, 10000000 loops each)\n"
          ]
        }
      ]
    },
    {
      "cell_type": "markdown",
      "metadata": {
        "id": "v9ziWf_lcjLn"
      },
      "source": [
        "### Speed it up with JIT!\n",
        "\n",
        "Compile the functions `func` and `dfunc_AD` using the [just-in-time compilation](https://en.wikipedia.org/wiki/Just-in-time_compilation) utility `jax.jit`.\n",
        "\n",
        "With `f_jit = jax.jit(f)` a callable `f` is compiled into `f_jit`.\n",
        "\n",
        "Then, check that the compiled functions return the same results as the original ones. Finally, evaluate the execution times and compare it with the previous results."
      ]
    },
    {
      "cell_type": "code",
      "source": [
        "func_jit = jax.jit(func)\n",
        "\n",
        "%timeit func_jit(x0)"
      ],
      "metadata": {
        "colab": {
          "base_uri": "https://localhost:8080/"
        },
        "id": "QwdqF5ll3jRz",
        "outputId": "d80bc72d-a1e7-412f-f08c-65f7120ff4a3"
      },
      "execution_count": 6,
      "outputs": [
        {
          "output_type": "stream",
          "name": "stdout",
          "text": [
            "9.99 µs ± 1.99 µs per loop (mean ± std. dev. of 7 runs, 100000 loops each)\n"
          ]
        }
      ]
    },
    {
      "cell_type": "code",
      "source": [
        "dfunc_AD_jit = jax.jit(dfunc_AD)\n",
        "%timeit dfunc_AD_jit"
      ],
      "metadata": {
        "colab": {
          "base_uri": "https://localhost:8080/"
        },
        "id": "BalE5oBI31O6",
        "outputId": "c2d94f03-0aac-48aa-96c6-5042eb4dab47"
      },
      "execution_count": 5,
      "outputs": [
        {
          "output_type": "stream",
          "name": "stdout",
          "text": [
            "29 ns ± 0.841 ns per loop (mean ± std. dev. of 7 runs, 10000000 loops each)\n"
          ]
        }
      ]
    }
  ]
}